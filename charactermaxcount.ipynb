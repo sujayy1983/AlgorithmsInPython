{
 "cells": [
  {
   "cell_type": "code",
   "execution_count": 8,
   "metadata": {},
   "outputs": [
    {
     "name": "stdout",
     "output_type": "stream",
     "text": [
      "Test1: Character 3 Occurrence q\n",
      "Test2: Character 7 Occurrence 9\n"
     ]
    }
   ],
   "source": [
    "\"\"\"\n",
    "Author: Sujayyendhiren\n",
    "Description: Get count of max occurring character in a string.\n",
    "\"\"\"\n",
    "\n",
    "def get_count_charsinstring(string):\n",
    "    \"\"\" Core logic for the required \n",
    "        string [Type: string] - Input string that needs to be\n",
    "                                processed\n",
    "                                \n",
    "        return (highcnt, highchar) [Type: tuple] - \n",
    "        Description: Count of occurrence character that appeared\n",
    "                     most times in the given string along with the\n",
    "                     string.\n",
    "    \"\"\"\n",
    "\n",
    "    processing = {}; highcnt = 0; higchar = ''\n",
    "    \n",
    "    for char in string:\n",
    "        if char not in processing:\n",
    "            processing[char] = 1\n",
    "        else:\n",
    "            processing[char] += 1\n",
    "            \n",
    "        if highcnt < processing[char]:\n",
    "            highcnt = processing[char]\n",
    "            highchar = char\n",
    "\n",
    "    return highcnt, highchar\n",
    "    \n",
    "if __name__ == '__main__':\n",
    "    \n",
    "    # Test1\n",
    "    highcnt, highchar = get_count_charsinstring(\"zzaappqqqr\")\n",
    "    print(\"Test1: Character {} Occurrence {}\".format(highcnt, highchar))\n",
    "    \n",
    "    # Test2\n",
    "    highcnt, highchar = get_count_charsinstring(\"99990000012345678999\")\n",
    "    print(\"Test2: Character {} Occurrence {}\".format(highcnt, highchar))\n",
    "    "
   ]
  }
 ],
 "metadata": {
  "kernelspec": {
   "display_name": "Python 3",
   "language": "python",
   "name": "python3"
  },
  "language_info": {
   "codemirror_mode": {
    "name": "ipython",
    "version": 3
   },
   "file_extension": ".py",
   "mimetype": "text/x-python",
   "name": "python",
   "nbconvert_exporter": "python",
   "pygments_lexer": "ipython3",
   "version": "3.6.0"
  }
 },
 "nbformat": 4,
 "nbformat_minor": 2
}
