{
 "cells": [
  {
   "cell_type": "code",
   "execution_count": 15,
   "metadata": {},
   "outputs": [
    {
     "name": "stdout",
     "output_type": "stream",
     "text": [
      " test1 [Factorial of 100] - 1*2*2*5*5!\n",
      " test2 [Factorial of 50] - 1*2*5*5!\n",
      " test3 [Factorial of 75] - 1*3*5*5!\n",
      " test4 [Factorial of 81] - 1*3*3*3*3!\n",
      " test4 [Factorial of 73] - 1*73!\n"
     ]
    }
   ],
   "source": [
    "\"\"\"\n",
    "Author: Sujayyendhiren RS\n",
    "Description: Deriving factorial of a given number with recursion\n",
    "\"\"\"\n",
    "\n",
    "def recursivefactorial(number, divisor):\n",
    "    \"\"\"\n",
    "        Input - number (Integer) Input that needs to be evaluated\n",
    "        \n",
    "        Description: Unwind once factored number is less than the divisor\n",
    "    \"\"\"\n",
    "    if number < divisor:\n",
    "        return\n",
    "        \n",
    "    if number % divisor == 0:\n",
    "        print(\"*{}\".format(divisor), end='')\n",
    "        number = int(number/divisor)\n",
    "        recursivefactorial(number, divisor)\n",
    "    else:\n",
    "        recursivefactorial(number, divisor+1)\n",
    "    \n",
    "    \n",
    "def wrapper(number, testname):\n",
    "    \"\"\" Wrapper for cleaner execution prints \"\"\"\n",
    "    print(\" {} [Factorial of {}] - 1\".format(testname, number), end='')\n",
    "    recursivefactorial(number, 2)\n",
    "    print(\"!\")\n",
    "    \n",
    "if __name__ == '__main__':\n",
    "    \n",
    "    #Test1\n",
    "    wrapper(100, 'test1')\n",
    "    \n",
    "    #Test2\n",
    "    wrapper(50, 'test2')\n",
    "    \n",
    "    #Test3\n",
    "    wrapper(75, 'test3')\n",
    "    \n",
    "    #Test4\n",
    "    wrapper(81, 'test4')\n",
    "    \n",
    "    #Test5\n",
    "    wrapper(73, 'test4')\n",
    "    "
   ]
  },
  {
   "cell_type": "code",
   "execution_count": null,
   "metadata": {
    "collapsed": true
   },
   "outputs": [],
   "source": []
  }
 ],
 "metadata": {
  "kernelspec": {
   "display_name": "Python 3",
   "language": "python",
   "name": "python3"
  },
  "language_info": {
   "codemirror_mode": {
    "name": "ipython",
    "version": 3
   },
   "file_extension": ".py",
   "mimetype": "text/x-python",
   "name": "python",
   "nbconvert_exporter": "python",
   "pygments_lexer": "ipython3",
   "version": "3.6.0"
  }
 },
 "nbformat": 4,
 "nbformat_minor": 2
}
